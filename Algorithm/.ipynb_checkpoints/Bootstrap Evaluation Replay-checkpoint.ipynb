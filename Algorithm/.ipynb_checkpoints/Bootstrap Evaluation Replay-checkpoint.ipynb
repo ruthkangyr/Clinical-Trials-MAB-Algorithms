{
 "cells": [
  {
   "cell_type": "markdown",
   "id": "06834343",
   "metadata": {},
   "source": [
    "# Import Packages"
   ]
  },
  {
   "cell_type": "code",
   "execution_count": 1,
   "id": "6851a903",
   "metadata": {},
   "outputs": [],
   "source": [
    "# Import packages\n",
    "import random\n",
    "import math\n",
    "\n",
    "import pandas as pd\n",
    "import numpy as np\n",
    "import matplotlib.pyplot as plt\n",
    "\n",
    "from sklearn.utils import resample\n",
    "from scipy.stats import beta"
   ]
  },
  {
   "cell_type": "code",
   "execution_count": null,
   "id": "6b1eefbb",
   "metadata": {},
   "outputs": [],
   "source": []
  },
  {
   "cell_type": "markdown",
   "id": "c049c6a4",
   "metadata": {},
   "source": [
    "# Algorithms \n",
    "* Without tuning\n",
    " * Epsilon Decay\n",
    " * Annealing Softmax\n",
    " * UCB1\n",
    " * Bayesian UCB\n",
    " * Thompson Sampling\n",
    "* With Tuning\n",
    " * Epsilon Greedy\n",
    " * Softmax"
   ]
  },
  {
   "cell_type": "markdown",
   "id": "26a9b049",
   "metadata": {},
   "source": [
    "## Algorithms Without Tuning\n",
    "* Epsilon Decay\n",
    "* Annealing Softmax\n",
    "* UCB1\n",
    "* Bayesian UCB\n",
    "* Thompson Sampling"
   ]
  },
  {
   "cell_type": "markdown",
   "id": "05e0c040",
   "metadata": {},
   "source": [
    "### Epsilon Decay"
   ]
  },
  {
   "cell_type": "code",
   "execution_count": 15,
   "id": "e671bd18",
   "metadata": {},
   "outputs": [],
   "source": [
    "def epsilon_decay(history, arms):\n",
    "    \n",
    "    epsilon = 1 / (sum(history[\"count\"]) / len(arms) + 1)\n",
    "    \n",
    "    if random.random() > epsilon: # exploit\n",
    "        ranks = history.sort_values(by = ['mean'], ascending = False) \n",
    "        chosen_arm = ranks.iloc[0]['arm']\n",
    "    else: # explore\n",
    "        chosen_arm = np.random.choice(arms, replace = False)\n",
    "    \n",
    "    return chosen_arm"
   ]
  },
  {
   "cell_type": "markdown",
   "id": "4a4ce4c5",
   "metadata": {},
   "source": [
    "### Annealing Softmax"
   ]
  },
  {
   "cell_type": "code",
   "execution_count": 16,
   "id": "f8b805a9",
   "metadata": {},
   "outputs": [],
   "source": [
    "def annealing_softmax(history, arms):\n",
    "    \n",
    "    temp = 1 / (sum(history[\"count\"]) / len(arms) + 1)\n",
    "\n",
    "    z = sum([np.exp(v / temp) for v in history[\"mean\"]])\n",
    "    pi = [np.exp(v / temp) / z for v in history[\"mean\"]]\n",
    "    chosen_arm = np.random.choice(arms, p = pi)\n",
    "    \n",
    "    return chosen_arm"
   ]
  },
  {
   "cell_type": "markdown",
   "id": "875b3b5c",
   "metadata": {},
   "source": [
    "### UCB1"
   ]
  },
  {
   "cell_type": "code",
   "execution_count": 17,
   "id": "aaedaf76",
   "metadata": {},
   "outputs": [],
   "source": [
    "def ucb1(history, arms):\n",
    "\n",
    "    n_arms = len(arms)\n",
    "    \n",
    "    for arm in range(n_arms):\n",
    "        if int(history[\"count\"][arm]) == 0:\n",
    "            chosen_arm = history[\"arm\"][arm]\n",
    "            return chosen_arm\n",
    "    \n",
    "    ucb_values = [0.0 for arm in range(n_arms)]\n",
    "    total_counts = sum(history[\"count\"])\n",
    "    \n",
    "    for arm in range(n_arms):\n",
    "        bonus = math.sqrt((2*math.log(total_counts)) / (float(history[\"count\"][arm])))\n",
    "        ucb_values[arm] = history[\"mean\"][arm] + bonus\n",
    "    \n",
    "    chosen_arm = ucb_values.index(max(ucb_values))\n",
    "    \n",
    "    return chosen_arm"
   ]
  },
  {
   "cell_type": "markdown",
   "id": "10bdd4b1",
   "metadata": {},
   "source": [
    "### Bayesian UCB"
   ]
  },
  {
   "cell_type": "code",
   "execution_count": 18,
   "id": "8ab9ab75",
   "metadata": {},
   "outputs": [],
   "source": [
    "def bayesian_ucb(history, arms):\n",
    "    \n",
    "    n_arms = len(arms)\n",
    "    \n",
    "    chosen_arm = max(range(n_arms), \n",
    "                     key = lambda x: container[\"alpha\"][x] / float(container[\"alpha\"][x] + container[\"beta\"][x]) \n",
    "                     + beta.std(container[\"alpha\"][x], container[\"beta\"][x]) * 3)\n",
    "    \n",
    "    return chosen_arm"
   ]
  },
  {
   "cell_type": "markdown",
   "id": "99abaaf8",
   "metadata": {},
   "source": [
    "### Thompson Sampling"
   ]
  },
  {
   "cell_type": "code",
   "execution_count": 19,
   "id": "b2958934",
   "metadata": {},
   "outputs": [],
   "source": [
    "def thompson_sampling(history, arms):\n",
    "    \n",
    "    n_arms = len(arms)\n",
    "    \n",
    "    thetas = [np.random.beta(container[\"alpha\"][x], container[\"beta\"][x]) for x in range(n_arms)]\n",
    "    chosen_arm = max(range(n_arms), \n",
    "                     key = lambda x: thetas[x])\n",
    "    \n",
    "    return chosen_arm"
   ]
  },
  {
   "cell_type": "markdown",
   "id": "e1e87608",
   "metadata": {},
   "source": [
    "## Algorithm with Tuning\n",
    "* Epsilon Greedy\n",
    "* Softmax"
   ]
  },
  {
   "cell_type": "markdown",
   "id": "4352d49d",
   "metadata": {},
   "source": [
    "### Epsilon Greedy"
   ]
  },
  {
   "cell_type": "code",
   "execution_count": 20,
   "id": "09ef3bec",
   "metadata": {},
   "outputs": [],
   "source": [
    "def epsilon_greedy(history, arms, epsilon = 0.1):\n",
    "    \n",
    "    explore = np.random.binomial(1, epsilon)\n",
    "            \n",
    "    if explore == 1 or history.shape[0] == 0:\n",
    "        chosen_arm = np.random.choice(arms, replace=False)\n",
    "    else:\n",
    "        ranks = history.sort_values(by=['mean'], ascending=False) \n",
    "        chosen_arm = ranks.iloc[0]['arm']\n",
    "        \n",
    "    return chosen_arm"
   ]
  },
  {
   "cell_type": "markdown",
   "id": "590f5bad",
   "metadata": {},
   "source": [
    "### Softmax"
   ]
  },
  {
   "cell_type": "code",
   "execution_count": 21,
   "id": "1057697a",
   "metadata": {},
   "outputs": [],
   "source": [
    "def softmax(history, arms, temp = 0.1):\n",
    "    \n",
    "    z = sum([math.exp(v / temp) for v in history[\"mean\"]])\n",
    "    pi = [math.exp(v / temp) / z for v in history[\"mean\"]]\n",
    "    chosen_arm = np.random.choice(arms, p = pi)\n",
    "    \n",
    "    return chosen_arm"
   ]
  },
  {
   "cell_type": "markdown",
   "id": "5590f261",
   "metadata": {},
   "source": [
    "# Bernoulli Arm"
   ]
  },
  {
   "cell_type": "code",
   "execution_count": 22,
   "id": "3301203b",
   "metadata": {},
   "outputs": [],
   "source": [
    "## define some arm class\n",
    "class BernoulliArm():\n",
    "    def __init__(self, p):\n",
    "        self.p = p\n",
    "        \n",
    "    def draw(self):\n",
    "        if random.random() > self.p:\n",
    "            return 0.0\n",
    "        else:\n",
    "            return 1.0"
   ]
  },
  {
   "cell_type": "markdown",
   "id": "ce30f6b8",
   "metadata": {},
   "source": [
    "# Bootstrap Replay\n",
    "\n",
    "In the bootstrapped replay, please output a dataframe, which contains the following columns: policy, time_step, reward, cumulative_reward"
   ]
  },
  {
   "cell_type": "code",
   "execution_count": 31,
   "id": "4789c0d9",
   "metadata": {},
   "outputs": [],
   "source": [
    "logs_df = pd.read_csv(\"../Data Cleaning/cleaned_dataset.csv\")\n",
    "# logs_df = pd.read_csv(\"cleaned_dataset.csv\")\n",
    "# logs_df = pd.read_csv(\"cleaned_dataset_all.csv\")\n",
    "logs_df = logs_df[:2500]"
   ]
  },
  {
   "cell_type": "code",
   "execution_count": 32,
   "id": "a7b3ea55",
   "metadata": {},
   "outputs": [],
   "source": [
    "# Generate boostrap resamples\n",
    "def bootstrap_samples(df, n_samples):\n",
    "    # Creation of bootstrap resamples\n",
    "    bsamples = []\n",
    "\n",
    "    for i in range(5):\n",
    "        bsample = resample(df, replace = True, n_samples = n_samples, random_state = i)\n",
    "        bsamples.append(bsample)\n",
    "    \n",
    "    return bsamples"
   ]
  },
  {
   "cell_type": "code",
   "execution_count": 33,
   "id": "ae79343f",
   "metadata": {},
   "outputs": [
    {
     "data": {
      "text/plain": [
       "array([1, 3, 2, 4], dtype=int64)"
      ]
     },
     "execution_count": 33,
     "metadata": {},
     "output_type": "execute_result"
    }
   ],
   "source": [
    "# Describe your data\n",
    "arms = logs_df[\"TREATMENT\"].unique()\n",
    "log_length = logs_df.shape[0]\n",
    "n_samples = log_length * len(arms)\n",
    "arms"
   ]
  },
  {
   "cell_type": "code",
   "execution_count": 35,
   "id": "6f0362e0",
   "metadata": {},
   "outputs": [],
   "source": [
    "# Set seed for reproducibility\n",
    "random.seed(4014)\n",
    "np.random.seed(4014)\n",
    "\n",
    "# Retrieving resamples\n",
    "bsamples = bootstrap_samples(logs_df, n_samples)\n",
    "\n",
    "# The algos used\n",
    "algos = [epsilon_greedy, epsilon_decay, softmax, annealing_softmax, ucb1, bayesian_ucb, thompson_sampling]\n",
    "# algos = [annealing_softmax]\n",
    "\n",
    "# Define a dataframe for evaluation results\n",
    "evaluation = []\n",
    "\n",
    "# Define a list to save all arm-play statistics\n",
    "play_stats = []\n",
    "\n",
    "# Running bootstrap replay\n",
    "for f in algos:\n",
    "\n",
    "    for bsample in bsamples:\n",
    "        # Define a container to store all knowledge you have learned for arm\n",
    "        container_cols = ['arm', 'sum', 'mean', 'count', 'alpha', 'beta']\n",
    "        container = pd.DataFrame(data = None, columns = container_cols)\n",
    "        container = container.astype({'arm': 'int32', 'sum': 'float', 'mean': 'float', 'count': 'float', 'alpha': 'int32', 'beta': 'int32'})\n",
    "\n",
    "        for j in range(0, len(arms)):\n",
    "            container.loc[j] = [arms[j], 0, 0, 0, 1, 1]\n",
    "        \n",
    "        step = 0\n",
    "\n",
    "        # Go through every entry of the dataframe\n",
    "        for i in range(1, log_length* len(arms) + 1):\n",
    "            # Get recommendation from the algorithm\n",
    "            rec_a = f(container, arms)\n",
    "            \n",
    "            # Check if the recommendation matches the record at the step\n",
    "            # If it does match, add to history so that the reward of this record can be revealed to the algorithm\n",
    "            if rec_a == bsample.iloc[i - 1]['TREATMENT']:\n",
    "                step = step + 1 # number of valid record to keep\n",
    "                action = bsample.iloc[i - 1]['TREATMENT'] # to see which arm is chosen\n",
    "                reward = bsample.iloc[i - 1]['REWARD_VALUE'] # get the reward value\n",
    "                regret = 1 - reward\n",
    "\n",
    "                # Add to history\n",
    "                eva_rec = {'policy': f.__name__, 'chosen_arm':action, 'time_step':step, 'reward':reward, 'regret':regret}\n",
    "                evaluation.append(eva_rec)\n",
    "\n",
    "                # Keeps a record of the recommendation between the bandit and the data\n",
    "                container['count'] = np.where(container['arm'] == action, container['count'] + 1, container['count'])\n",
    "                container['sum'] = np.where(container['arm'] == action, container['sum'] + reward, container['sum'])\n",
    "                container['mean'] = np.where(container['arm'] == action, container['sum'] / (container['count'] + 0.0), container['mean'])\n",
    "                container['alpha'] = np.where(container['arm'] == action, container['alpha'] + reward, container['alpha'])\n",
    "                container['beta'] = np.where(container['arm'] == action, container['beta'] + (1 - reward), container['beta'])\n",
    "            # If it does not match, discard and move to the next iteration \n",
    "            else:\n",
    "                continue\n",
    "\n",
    "        container['policy'] = f.__name__\n",
    "        play_stats.append(container)"
   ]
  },
  {
   "cell_type": "code",
   "execution_count": 36,
   "id": "8af86a4f",
   "metadata": {},
   "outputs": [
    {
     "data": {
      "text/html": [
       "<div>\n",
       "<style scoped>\n",
       "    .dataframe tbody tr th:only-of-type {\n",
       "        vertical-align: middle;\n",
       "    }\n",
       "\n",
       "    .dataframe tbody tr th {\n",
       "        vertical-align: top;\n",
       "    }\n",
       "\n",
       "    .dataframe thead th {\n",
       "        text-align: right;\n",
       "    }\n",
       "</style>\n",
       "<table border=\"1\" class=\"dataframe\">\n",
       "  <thead>\n",
       "    <tr style=\"text-align: right;\">\n",
       "      <th></th>\n",
       "      <th>policy</th>\n",
       "      <th>chosen_arm</th>\n",
       "      <th>time_step</th>\n",
       "      <th>reward</th>\n",
       "      <th>regret</th>\n",
       "    </tr>\n",
       "  </thead>\n",
       "  <tbody>\n",
       "    <tr>\n",
       "      <th>45556</th>\n",
       "      <td>annealing_softmax</td>\n",
       "      <td>4</td>\n",
       "      <td>1</td>\n",
       "      <td>1</td>\n",
       "      <td>0</td>\n",
       "    </tr>\n",
       "    <tr>\n",
       "      <th>48669</th>\n",
       "      <td>annealing_softmax</td>\n",
       "      <td>2</td>\n",
       "      <td>1</td>\n",
       "      <td>1</td>\n",
       "      <td>0</td>\n",
       "    </tr>\n",
       "    <tr>\n",
       "      <th>52086</th>\n",
       "      <td>annealing_softmax</td>\n",
       "      <td>4</td>\n",
       "      <td>1</td>\n",
       "      <td>1</td>\n",
       "      <td>0</td>\n",
       "    </tr>\n",
       "    <tr>\n",
       "      <th>55523</th>\n",
       "      <td>annealing_softmax</td>\n",
       "      <td>4</td>\n",
       "      <td>1</td>\n",
       "      <td>1</td>\n",
       "      <td>0</td>\n",
       "    </tr>\n",
       "    <tr>\n",
       "      <th>58819</th>\n",
       "      <td>annealing_softmax</td>\n",
       "      <td>1</td>\n",
       "      <td>1</td>\n",
       "      <td>1</td>\n",
       "      <td>0</td>\n",
       "    </tr>\n",
       "    <tr>\n",
       "      <th>...</th>\n",
       "      <td>...</td>\n",
       "      <td>...</td>\n",
       "      <td>...</td>\n",
       "      <td>...</td>\n",
       "      <td>...</td>\n",
       "    </tr>\n",
       "    <tr>\n",
       "      <th>65606</th>\n",
       "      <td>ucb1</td>\n",
       "      <td>1</td>\n",
       "      <td>3445</td>\n",
       "      <td>1</td>\n",
       "      <td>0</td>\n",
       "    </tr>\n",
       "    <tr>\n",
       "      <th>65607</th>\n",
       "      <td>ucb1</td>\n",
       "      <td>1</td>\n",
       "      <td>3446</td>\n",
       "      <td>1</td>\n",
       "      <td>0</td>\n",
       "    </tr>\n",
       "    <tr>\n",
       "      <th>65608</th>\n",
       "      <td>ucb1</td>\n",
       "      <td>1</td>\n",
       "      <td>3447</td>\n",
       "      <td>1</td>\n",
       "      <td>0</td>\n",
       "    </tr>\n",
       "    <tr>\n",
       "      <th>65609</th>\n",
       "      <td>ucb1</td>\n",
       "      <td>1</td>\n",
       "      <td>3448</td>\n",
       "      <td>1</td>\n",
       "      <td>0</td>\n",
       "    </tr>\n",
       "    <tr>\n",
       "      <th>65610</th>\n",
       "      <td>ucb1</td>\n",
       "      <td>1</td>\n",
       "      <td>3449</td>\n",
       "      <td>0</td>\n",
       "      <td>1</td>\n",
       "    </tr>\n",
       "  </tbody>\n",
       "</table>\n",
       "<p>74745 rows × 5 columns</p>\n",
       "</div>"
      ],
      "text/plain": [
       "                  policy  chosen_arm  time_step  reward  regret\n",
       "45556  annealing_softmax           4          1       1       0\n",
       "48669  annealing_softmax           2          1       1       0\n",
       "52086  annealing_softmax           4          1       1       0\n",
       "55523  annealing_softmax           4          1       1       0\n",
       "58819  annealing_softmax           1          1       1       0\n",
       "...                  ...         ...        ...     ...     ...\n",
       "65606               ucb1           1       3445       1       0\n",
       "65607               ucb1           1       3446       1       0\n",
       "65608               ucb1           1       3447       1       0\n",
       "65609               ucb1           1       3448       1       0\n",
       "65610               ucb1           1       3449       0       1\n",
       "\n",
       "[74745 rows x 5 columns]"
      ]
     },
     "execution_count": 36,
     "metadata": {},
     "output_type": "execute_result"
    }
   ],
   "source": [
    "evaluation = pd.DataFrame(evaluation)\n",
    "evaluation = evaluation.sort_values(by=['policy','time_step'])\n",
    "evaluation"
   ]
  },
  {
   "cell_type": "code",
   "execution_count": 38,
   "id": "d8f55564",
   "metadata": {},
   "outputs": [
    {
     "data": {
      "text/html": [
       "<div>\n",
       "<style scoped>\n",
       "    .dataframe tbody tr th:only-of-type {\n",
       "        vertical-align: middle;\n",
       "    }\n",
       "\n",
       "    .dataframe tbody tr th {\n",
       "        vertical-align: top;\n",
       "    }\n",
       "\n",
       "    .dataframe thead th {\n",
       "        text-align: right;\n",
       "    }\n",
       "</style>\n",
       "<table border=\"1\" class=\"dataframe\">\n",
       "  <thead>\n",
       "    <tr style=\"text-align: right;\">\n",
       "      <th></th>\n",
       "      <th>policy</th>\n",
       "      <th>time_step</th>\n",
       "      <th>reward</th>\n",
       "      <th>regret</th>\n",
       "      <th>cumulative_reward</th>\n",
       "      <th>cumulative_regret</th>\n",
       "    </tr>\n",
       "  </thead>\n",
       "  <tbody>\n",
       "    <tr>\n",
       "      <th>0</th>\n",
       "      <td>annealing_softmax</td>\n",
       "      <td>1</td>\n",
       "      <td>1.0</td>\n",
       "      <td>0.0</td>\n",
       "      <td>1.0</td>\n",
       "      <td>0.0</td>\n",
       "    </tr>\n",
       "    <tr>\n",
       "      <th>1</th>\n",
       "      <td>annealing_softmax</td>\n",
       "      <td>2</td>\n",
       "      <td>0.6</td>\n",
       "      <td>0.4</td>\n",
       "      <td>1.6</td>\n",
       "      <td>0.4</td>\n",
       "    </tr>\n",
       "    <tr>\n",
       "      <th>2</th>\n",
       "      <td>annealing_softmax</td>\n",
       "      <td>3</td>\n",
       "      <td>1.0</td>\n",
       "      <td>0.0</td>\n",
       "      <td>2.6</td>\n",
       "      <td>0.4</td>\n",
       "    </tr>\n",
       "    <tr>\n",
       "      <th>3</th>\n",
       "      <td>annealing_softmax</td>\n",
       "      <td>4</td>\n",
       "      <td>0.8</td>\n",
       "      <td>0.2</td>\n",
       "      <td>3.4</td>\n",
       "      <td>0.6</td>\n",
       "    </tr>\n",
       "    <tr>\n",
       "      <th>4</th>\n",
       "      <td>annealing_softmax</td>\n",
       "      <td>5</td>\n",
       "      <td>1.0</td>\n",
       "      <td>0.0</td>\n",
       "      <td>4.4</td>\n",
       "      <td>0.6</td>\n",
       "    </tr>\n",
       "    <tr>\n",
       "      <th>...</th>\n",
       "      <td>...</td>\n",
       "      <td>...</td>\n",
       "      <td>...</td>\n",
       "      <td>...</td>\n",
       "      <td>...</td>\n",
       "      <td>...</td>\n",
       "    </tr>\n",
       "    <tr>\n",
       "      <th>19652</th>\n",
       "      <td>ucb1</td>\n",
       "      <td>3445</td>\n",
       "      <td>1.0</td>\n",
       "      <td>0.0</td>\n",
       "      <td>2724.2</td>\n",
       "      <td>720.8</td>\n",
       "    </tr>\n",
       "    <tr>\n",
       "      <th>19653</th>\n",
       "      <td>ucb1</td>\n",
       "      <td>3446</td>\n",
       "      <td>1.0</td>\n",
       "      <td>0.0</td>\n",
       "      <td>2725.2</td>\n",
       "      <td>720.8</td>\n",
       "    </tr>\n",
       "    <tr>\n",
       "      <th>19654</th>\n",
       "      <td>ucb1</td>\n",
       "      <td>3447</td>\n",
       "      <td>1.0</td>\n",
       "      <td>0.0</td>\n",
       "      <td>2726.2</td>\n",
       "      <td>720.8</td>\n",
       "    </tr>\n",
       "    <tr>\n",
       "      <th>19655</th>\n",
       "      <td>ucb1</td>\n",
       "      <td>3448</td>\n",
       "      <td>1.0</td>\n",
       "      <td>0.0</td>\n",
       "      <td>2727.2</td>\n",
       "      <td>720.8</td>\n",
       "    </tr>\n",
       "    <tr>\n",
       "      <th>19656</th>\n",
       "      <td>ucb1</td>\n",
       "      <td>3449</td>\n",
       "      <td>0.0</td>\n",
       "      <td>1.0</td>\n",
       "      <td>2727.2</td>\n",
       "      <td>721.8</td>\n",
       "    </tr>\n",
       "  </tbody>\n",
       "</table>\n",
       "<p>19657 rows × 6 columns</p>\n",
       "</div>"
      ],
      "text/plain": [
       "                  policy  time_step  reward  regret  cumulative_reward  \\\n",
       "0      annealing_softmax          1     1.0     0.0                1.0   \n",
       "1      annealing_softmax          2     0.6     0.4                1.6   \n",
       "2      annealing_softmax          3     1.0     0.0                2.6   \n",
       "3      annealing_softmax          4     0.8     0.2                3.4   \n",
       "4      annealing_softmax          5     1.0     0.0                4.4   \n",
       "...                  ...        ...     ...     ...                ...   \n",
       "19652               ucb1       3445     1.0     0.0             2724.2   \n",
       "19653               ucb1       3446     1.0     0.0             2725.2   \n",
       "19654               ucb1       3447     1.0     0.0             2726.2   \n",
       "19655               ucb1       3448     1.0     0.0             2727.2   \n",
       "19656               ucb1       3449     0.0     1.0             2727.2   \n",
       "\n",
       "       cumulative_regret  \n",
       "0                    0.0  \n",
       "1                    0.4  \n",
       "2                    0.4  \n",
       "3                    0.6  \n",
       "4                    0.6  \n",
       "...                  ...  \n",
       "19652              720.8  \n",
       "19653              720.8  \n",
       "19654              720.8  \n",
       "19655              720.8  \n",
       "19656              721.8  \n",
       "\n",
       "[19657 rows x 6 columns]"
      ]
     },
     "execution_count": 38,
     "metadata": {},
     "output_type": "execute_result"
    }
   ],
   "source": [
    "final_evaluation = evaluation.groupby(['policy', 'time_step'], as_index = False).aggregate({\"reward\":\"mean\", \n",
    "                                                                                            \"regret\":\"mean\"})\n",
    "\n",
    "final_evaluation['cumulative_reward'] = final_evaluation.groupby(['policy'])['reward'].cumsum()\n",
    "final_evaluation['cumulative_regret'] = final_evaluation.groupby(['policy'])['regret'].cumsum()\n",
    "final_evaluation"
   ]
  },
  {
   "cell_type": "markdown",
   "id": "68609ef1",
   "metadata": {},
   "source": [
    "# Reward\n",
    "* The average reward over time\n",
    "* The cumulative reward over time"
   ]
  },
  {
   "cell_type": "code",
   "execution_count": 47,
   "id": "557eeab0",
   "metadata": {},
   "outputs": [
    {
     "data": {
      "text/plain": [
       "Text(0.5, 1.0, 'Average rewards at each time step')"
      ]
     },
     "execution_count": 47,
     "metadata": {},
     "output_type": "execute_result"
    },
    {
     "data": {
      "image/png": "[encoded data removed]",
      "text/plain": [
       "<Figure size 1440x720 with 1 Axes>"
      ]
     },
     "metadata": {
      "needs_background": "light"
     },
     "output_type": "display_data"
    }
   ],
   "source": [
    "# Plot the rewards at each time step\n",
    "fig = plt.figure(figsize = (20, 10))\n",
    "ax = fig.add_subplot(111)\n",
    "for policy in final_evaluation['policy'].unique():\n",
    "    results_policy = final_evaluation[final_evaluation['policy'] == policy]\n",
    "    ax.plot(results_policy['time_step'], results_policy['reward'], label = str(policy))\n",
    "plt.legend(loc = \"upper left\")\n",
    "plt.title(\"Average rewards at each time step\")"
   ]
  },
  {
   "cell_type": "code",
   "execution_count": 45,
   "id": "01cc0585",
   "metadata": {},
   "outputs": [
    {
     "data": {
      "text/html": [
       "<div>\n",
       "<style scoped>\n",
       "    .dataframe tbody tr th:only-of-type {\n",
       "        vertical-align: middle;\n",
       "    }\n",
       "\n",
       "    .dataframe tbody tr th {\n",
       "        vertical-align: top;\n",
       "    }\n",
       "\n",
       "    .dataframe thead th {\n",
       "        text-align: right;\n",
       "    }\n",
       "</style>\n",
       "<table border=\"1\" class=\"dataframe\">\n",
       "  <thead>\n",
       "    <tr style=\"text-align: right;\">\n",
       "      <th></th>\n",
       "      <th>policy</th>\n",
       "      <th>cumulative_reward</th>\n",
       "    </tr>\n",
       "  </thead>\n",
       "  <tbody>\n",
       "    <tr>\n",
       "      <th>0</th>\n",
       "      <td>annealing_softmax</td>\n",
       "      <td>2738.916667</td>\n",
       "    </tr>\n",
       "    <tr>\n",
       "      <th>1</th>\n",
       "      <td>epsilon_decay</td>\n",
       "      <td>2722.583333</td>\n",
       "    </tr>\n",
       "    <tr>\n",
       "      <th>2</th>\n",
       "      <td>epsilon_greedy</td>\n",
       "      <td>2645.616667</td>\n",
       "    </tr>\n",
       "    <tr>\n",
       "      <th>3</th>\n",
       "      <td>softmax</td>\n",
       "      <td>2714.050000</td>\n",
       "    </tr>\n",
       "    <tr>\n",
       "      <th>4</th>\n",
       "      <td>thompson_sampling</td>\n",
       "      <td>2016.083333</td>\n",
       "    </tr>\n",
       "    <tr>\n",
       "      <th>5</th>\n",
       "      <td>ucb1</td>\n",
       "      <td>2727.200000</td>\n",
       "    </tr>\n",
       "  </tbody>\n",
       "</table>\n",
       "</div>"
      ],
      "text/plain": [
       "              policy  cumulative_reward\n",
       "0  annealing_softmax        2738.916667\n",
       "1      epsilon_decay        2722.583333\n",
       "2     epsilon_greedy        2645.616667\n",
       "3            softmax        2714.050000\n",
       "4  thompson_sampling        2016.083333\n",
       "5               ucb1        2727.200000"
      ]
     },
     "execution_count": 45,
     "metadata": {},
     "output_type": "execute_result"
    }
   ],
   "source": [
    "# Determine the cumulative reward at 1000 time step\n",
    "final_evaluation.groupby(['policy'], as_index = False).aggregate({\"cumulative_reward\":\"max\"})"
   ]
  },
  {
   "cell_type": "code",
   "execution_count": 43,
   "id": "c5bdcf7d",
   "metadata": {},
   "outputs": [
    {
     "data": {
      "text/plain": [
       "Text(0.5, 1.0, 'Cumulative rewards at each step')"
      ]
     },
     "execution_count": 43,
     "metadata": {},
     "output_type": "execute_result"
    },
    {
     "data": {
      "image/png": "[encoded data removed]",
      "text/plain": [
       "<Figure size 1080x1080 with 1 Axes>"
      ]
     },
     "metadata": {
      "needs_background": "light"
     },
     "output_type": "display_data"
    }
   ],
   "source": [
    "# Plot the cumulative rewards at each time step\n",
    "fig = plt.figure(figsize = (15, 15))\n",
    "ax = fig.add_subplot(111)\n",
    "for policy in final_evaluation['policy'].unique():\n",
    "    results_policy = final_evaluation[final_evaluation['policy'] == policy]\n",
    "    ax.plot(results_policy['time_step'], results_policy['cumulative_reward'], label = str(policy))\n",
    "plt.legend()\n",
    "plt.title(\"Cumulative rewards at each step\")"
   ]
  }
 ],
 "metadata": {
  "kernelspec": {
   "display_name": "Python 3 (ipykernel)",
   "language": "python",
   "name": "python3"
  },
  "language_info": {
   "codemirror_mode": {
    "name": "ipython",
    "version": 3
   },
   "file_extension": ".py",
   "mimetype": "text/x-python",
   "name": "python",
   "nbconvert_exporter": "python",
   "pygments_lexer": "ipython3",
   "version": "3.9.7"
  }
 },
 "nbformat": 4,
 "nbformat_minor": 5
}

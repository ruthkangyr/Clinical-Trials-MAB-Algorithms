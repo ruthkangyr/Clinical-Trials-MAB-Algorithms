{
 "cells": [
  {
   "cell_type": "code",
   "execution_count": null,
   "metadata": {},
   "outputs": [],
   "source": [
    "import pandas as pd\n",
    "import numpy as np\n",
    "import warnings\n",
    "\n",
    "pd.set_option(\"display.max_columns\", None)\n",
    "warnings.filterwarnings(\"ignore\")"
   ]
  },
  {
   "cell_type": "code",
   "execution_count": null,
   "metadata": {},
   "outputs": [],
   "source": [
    "df = pd.read_csv('')"
   ]
  },
  {
   "cell_type": "code",
   "execution_count": null,
   "metadata": {},
   "outputs": [],
   "source": []
  },
  {
   "cell_type": "code",
   "execution_count": null,
   "metadata": {},
   "outputs": [],
   "source": []
  },
  {
   "cell_type": "code",
   "execution_count": null,
   "metadata": {},
   "outputs": [],
   "source": []
  },
  {
   "cell_type": "code",
   "execution_count": null,
   "metadata": {},
   "outputs": [],
   "source": []
  },
  {
   "cell_type": "code",
   "execution_count": null,
   "metadata": {},
   "outputs": [],
   "source": []
  },
  {
   "cell_type": "code",
   "execution_count": null,
   "metadata": {},
   "outputs": [],
   "source": []
  },
  {
   "cell_type": "code",
   "execution_count": null,
   "metadata": {},
   "outputs": [],
   "source": [
    "#create reward column\n",
    "conditions = [\n",
    "    (df_new_removed['FDEAD'] == 'Y') & (df_new_removed['FDENNIS'] == 'Y') & (df_new_removed['FRECOVER'] == 'Y'),\n",
    "    (df_new_removed['FDEAD'] == 'Y') & (df_new_removed['FDENNIS'] == 'N') & (df_new_removed['FRECOVER'] == 'N'),\n",
    "    (df_new_removed['FDEAD'] == 'N') & (df_new_removed['FDENNIS'] == 'Y') & (df_new_removed['FRECOVER'] == 'N'),\n",
    "    (df_new_removed['FDEAD'] == 'N') & (df_new_removed['FDENNIS'] == 'N') & (df_new_removed['FRECOVER'] == 'Y'),\n",
    "    (df_new_removed['FDEAD'] == 'N') & (df_new_removed['FDENNIS'] == 'Y') & (df_new_removed['FRECOVER'] == 'Y'),\n",
    "    (df_new_removed['FDEAD'] == 'N') & (df_new_removed['FDENNIS'] == 'N') & (df_new_removed['FRECOVER'] == 'N'),\n",
    "]\n",
    "\n",
    "values = ['Dead while dependent', 'Dead after recovery', 'Alive and still dependent', 'Alive and recovered', 'Alive and still dependent', 'Others']"
   ]
  }
 ],
 "metadata": {
  "language_info": {
   "name": "python"
  },
  "orig_nbformat": 4
 },
 "nbformat": 4,
 "nbformat_minor": 2
}
